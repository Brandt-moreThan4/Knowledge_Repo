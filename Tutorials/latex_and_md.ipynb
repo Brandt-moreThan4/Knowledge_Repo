{
 "cells": [
  {
   "cell_type": "markdown",
   "metadata": {},
   "source": [
    "$ obj = \\frac{1}{n} \\sum_{i=1}^n (\\hat{y}_i - y_i)^2 $\n",
    "\n",
    "$ \\frac{\\partial obj}{\\partial \\beta_0} = \\frac{1}{n} \\sum_{i=1}^n 2(\\hat{y}_i - y_i)$\n",
    "\n",
    "$ \\frac{\\partial obj}{\\partial \\beta_1} = \\frac{1}{n} \\sum_{i=1}^n 2(\\hat{y}_i - y_i)x_{1i}$\n",
    "\n",
    "$ \\frac{\\partial obj}{\\partial \\beta_2} = \\frac{1}{n} \\sum_{i=1}^n 2(\\hat{y}_i - y_i)x_{2i}$\n",
    "\n",
    "$ \\nabla obj = \\left( \\frac{\\partial obj}{\\partial \\beta_0}, \\frac{\\partial obj}{\\partial \\beta_1}, \\frac{\\partial obj}{\\partial \\beta_2}\\right) $"
   ]
  },
  {
   "cell_type": "markdown",
   "metadata": {},
   "source": [
    "<br>\n",
    "<br>\n",
    "\n",
    "$$IoU =  \\frac{A \\cap B}{A\\cup B} = \\frac{True Positive}{True Positive + False Positive + False Negative}$$\n",
    "\n",
    "<br>\n",
    "<br>"
   ]
  },
  {
   "cell_type": "markdown",
   "metadata": {},
   "source": [
    "$$Pixel\\: Accuracy = \\frac{True Positive + True Negative}{True Positive + False Positive + True Negative + False Negative}$$"
   ]
  },
  {
   "cell_type": "markdown",
   "metadata": {},
   "source": [
    "$$Dice = 2*\\frac{A \\cap B}{A\\cup B} = \\frac{2*True Positive}{2*True Positive + False Positive + False Negative}$$\n",
    "\n",
    "$$IoU = \\frac{Dice}{2-Dice}$$"
   ]
  },
  {
   "cell_type": "markdown",
   "metadata": {},
   "source": []
  },
  {
   "cell_type": "markdown",
   "metadata": {},
   "source": [
    "# This is an example of a markdown cell in action!\n",
    "\n",
    "## This is a sub header\n",
    "\n",
    "We can do math if you know $\\LaTeX$: $ \\int_0^\\infty f(x) dx $ \n",
    "\n",
    "We can make bullets with the star\n",
    "\n",
    "* Bullet 1\n",
    "* Bullet again\n",
    "    * Sub bullet\n",
    "\n",
    "Here's a list\n",
    "1. item 1\n",
    "2. item 2\n",
    "1. what is going on??? markdown knows what's up!\n",
    "\n",
    "### Tables too\n",
    "| Column 1 | Column 2 | Column 3|\n",
    "|   ---    |  ---     | ---     |\n",
    "| 1        |  a       |   x     |\n",
    "| 2        |  b       |  y      |\n",
    "| 5        |  g       | $\\Omega$ |\n",
    "\n",
    "I will expect a lot of nice formatting in your project submissions!"
   ]
  },
  {
   "cell_type": "markdown",
   "metadata": {},
   "source": []
  },
  {
   "cell_type": "markdown",
   "metadata": {},
   "source": [
    "### Simplified Model:\n",
    "<hr>\n",
    "\n",
    "Regress sales on the amount of rebate dollars spent.\n",
    "\n",
    "$$ Sales = \\beta_0 + RebateDollarsSpent *\\beta_1 $$\n",
    "\n",
    "We can then interpret $\\beta_1$ as the marginal dollar increase in sales for every dollar invested in rebate incentives. So $\\beta_1 > 1$ is good because a dollar invested in rebates generates more than an additional dolar of sales and $\\beta_1 < 1$ is bad because the rebates are not even fully paying for themselves.   \n",
    "\n",
    "$$ ROI = (\\beta_1 - 1)/100 $$\n"
   ]
  },
  {
   "cell_type": "markdown",
   "metadata": {},
   "source": [
    "### More Complex Models:\n",
    "\n",
    "Now we can try to add more complicated models with more independent variables to control for other factors. We can also add in interaction terms and nonlinear terms.\n",
    "\n",
    "One Example:\n",
    "\n",
    "$$ Sales = \\beta_0 + RebateDollarsSpent *\\beta_1 + Region_1 * \\beta_2 + Region_2 * \\beta_3 + RebateDollarsSpent * Region_1 * \\beta_4 \\\\ + RebateDollarsSpent * Region_2 * \\beta_5 $$\n",
    "\n",
    "Where the regions are indicator variables having the value of 1 or 0.\n",
    "\n",
    "\n",
    "Marginal increase of sales for a given increase in rebate investment would be:\n",
    "\n",
    "$$ MarginalSalesIncrease = \\beta_1 + Region_1*\\beta_4 + Region_2*\\beta_5 $$\n",
    "\n",
    "Meaning the ROI is now:\n",
    "\n",
    "$$ ROI = (\\beta_1 + Region_1*\\beta_4 + Region_2*\\beta_5 - 1)/100 $$\n",
    "\n",
    "\n",
    "Another Example:\n",
    "\n",
    "$$ Sales = \\beta_0 + RebateDollarsSpent *\\beta_1 + RebateDollarsSpent^2 *\\beta_2  $$\n",
    "\n",
    "Then:\n",
    "\n",
    "$$ ROI = \\beta_1 + 2 * RebateDollarsSpent * \\beta_2 $$"
   ]
  }
 ],
 "metadata": {
  "kernelspec": {
   "display_name": "Python 3",
   "language": "python",
   "name": "python3"
  },
  "language_info": {
   "codemirror_mode": {
    "name": "ipython",
    "version": 3
   },
   "file_extension": ".py",
   "mimetype": "text/x-python",
   "name": "python",
   "nbconvert_exporter": "python",
   "pygments_lexer": "ipython3",
   "version": "3.9.5"
  }
 },
 "nbformat": 4,
 "nbformat_minor": 2
}
