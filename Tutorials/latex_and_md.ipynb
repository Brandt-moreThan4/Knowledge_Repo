{
 "cells": [
  {
   "cell_type": "markdown",
   "metadata": {},
   "source": [
    "$ obj = \\frac{1}{n} \\sum_{i=1}^n (\\hat{y}_i - y_i)^2 $\n",
    "\n",
    "$ \\frac{\\partial obj}{\\partial \\beta_0} = \\frac{1}{n} \\sum_{i=1}^n 2(\\hat{y}_i - y_i)$\n",
    "\n",
    "$ \\frac{\\partial obj}{\\partial \\beta_1} = \\frac{1}{n} \\sum_{i=1}^n 2(\\hat{y}_i - y_i)x_{1i}$\n",
    "\n",
    "$ \\frac{\\partial obj}{\\partial \\beta_2} = \\frac{1}{n} \\sum_{i=1}^n 2(\\hat{y}_i - y_i)x_{2i}$\n",
    "\n",
    "$ \\nabla obj = \\left( \\frac{\\partial obj}{\\partial \\beta_0}, \\frac{\\partial obj}{\\partial \\beta_1}, \\frac{\\partial obj}{\\partial \\beta_2}\\right) $"
   ]
  },
  {
   "cell_type": "markdown",
   "metadata": {},
   "source": [
    "<br>\n",
    "<br>\n",
    "\n",
    "$$IoU =  \\frac{A \\cap B}{A\\cup B} = \\frac{True Positive}{True Positive + False Positive + False Negative}$$\n",
    "\n",
    "<br>\n",
    "<br>"
   ]
  },
  {
   "cell_type": "markdown",
   "metadata": {},
   "source": [
    "$$Pixel\\: Accuracy = \\frac{True Positive + True Negative}{True Positive + False Positive + True Negative + False Negative}$$"
   ]
  },
  {
   "cell_type": "markdown",
   "metadata": {},
   "source": [
    "$$Dice = 2*\\frac{A \\cap B}{A\\cup B} = \\frac{2*True Positive}{2*True Positive + False Positive + False Negative}$$\n",
    "\n",
    "$$IoU = \\frac{Dice}{2-Dice}$$"
   ]
  },
  {
   "cell_type": "markdown",
   "metadata": {},
   "source": []
  },
  {
   "cell_type": "markdown",
   "metadata": {},
   "source": [
    "# This is an example of a markdown cell in action!\n",
    "\n",
    "## This is a sub header\n",
    "\n",
    "We can do math if you know $\\LaTeX$: $ \\int_0^\\infty f(x) dx $ \n",
    "\n",
    "We can make bullets with the star\n",
    "\n",
    "* Bullet 1\n",
    "* Bullet again\n",
    "    * Sub bullet\n",
    "\n",
    "Here's a list\n",
    "1. item 1\n",
    "2. item 2\n",
    "1. what is going on??? markdown knows what's up!\n",
    "\n",
    "### Tables too\n",
    "| Column 1 | Column 2 | Column 3|\n",
    "|   ---    |  ---     | ---     |\n",
    "| 1        |  a       |   x     |\n",
    "| 2        |  b       |  y      |\n",
    "| 5        |  g       | $\\Omega$ |\n",
    "\n",
    "I will expect a lot of nice formatting in your project submissions!"
   ]
  },
  {
   "cell_type": "markdown",
   "metadata": {},
   "source": []
  },
  {
   "cell_type": "markdown",
   "metadata": {},
   "source": []
  },
  {
   "cell_type": "markdown",
   "metadata": {},
   "source": []
  }
 ],
 "metadata": {
  "kernelspec": {
   "display_name": "Python 3",
   "language": "python",
   "name": "python3"
  },
  "language_info": {
   "codemirror_mode": {
    "name": "ipython",
    "version": 3
   },
   "file_extension": ".py",
   "mimetype": "text/x-python",
   "name": "python",
   "nbconvert_exporter": "python",
   "pygments_lexer": "ipython3",
   "version": "3.8.8"
  }
 },
 "nbformat": 4,
 "nbformat_minor": 2
}
